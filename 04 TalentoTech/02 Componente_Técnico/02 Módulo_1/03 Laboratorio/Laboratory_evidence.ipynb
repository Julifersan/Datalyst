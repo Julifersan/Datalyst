{
 "cells": [
  {
   "cell_type": "code",
   "execution_count": 127,
   "metadata": {},
   "outputs": [],
   "source": [
    "import pandas as pd\n",
    "import matplotlib.pyplot as plt"
   ]
  },
  {
   "cell_type": "code",
   "execution_count": 128,
   "metadata": {},
   "outputs": [
    {
     "name": "stdout",
     "output_type": "stream",
     "text": [
      "       age           job   marital  education default  balance housing loan  \\\n",
      "0       58    management   married   tertiary      no   2143.0     yes   no   \n",
      "1       44    technician    single  secondary      no     29.0     yes   no   \n",
      "2       33  entrepreneur   married  secondary      no      2.0     yes  yes   \n",
      "3       47   blue-collar   married    unknown      no   1506.0     yes   no   \n",
      "4       33       unknown    single    unknown      no      1.0      no   no   \n",
      "...    ...           ...       ...        ...     ...      ...     ...  ...   \n",
      "45210   51    technician   married   tertiary      no    825.0      no   no   \n",
      "45211   71       retired  divorced    primary      no   1729.0      no   no   \n",
      "45212   72       retired   married  secondary      no   5715.0      no   no   \n",
      "45213   57   blue-collar   married  secondary      no    668.0      no   no   \n",
      "45214   37  entrepreneur   married  secondary      no   2971.0      no   no   \n",
      "\n",
      "         contact  day month  duration  campaign  pdays  previous poutcome    y  \n",
      "0        unknown    5   may     261.0         1   -1.0         0  unknown   no  \n",
      "1        unknown    5   may     151.0         1   -1.0         0  unknown   no  \n",
      "2        unknown    5   may      76.0         1   -1.0         0  unknown   no  \n",
      "3        unknown    5   may      92.0         1   -1.0         0  unknown   no  \n",
      "4        unknown    5   may     198.0         1   -1.0         0  unknown   no  \n",
      "...          ...  ...   ...       ...       ...    ...       ...      ...  ...  \n",
      "45210   cellular   17   nov     977.0         3   -1.0         0  unknown  yes  \n",
      "45211   cellular   17   nov     456.0         2   -1.0         0  unknown  yes  \n",
      "45212   cellular   17   nov    1127.0         5  184.0         3  success  yes  \n",
      "45213  telephone   17   nov     508.0         4   -1.0         0  unknown   no  \n",
      "45214   cellular   17   nov     361.0         2  188.0        11    other   no  \n",
      "\n",
      "[45215 rows x 17 columns]\n"
     ]
    }
   ],
   "source": [
    "# Se almacena la ruta del archivo en la variable \"archivo\"\n",
    "archivo = r\"dataset_banco.csv\"\n",
    "\n",
    "# Se crea el dataframe 'banco'\n",
    "banco = pd.read_csv(archivo, sep = ',')\n",
    "\n",
    "# Se imprime el resultado ⬇️\n",
    "print(banco)"
   ]
  },
  {
   "cell_type": "code",
   "execution_count": 129,
   "metadata": {},
   "outputs": [
    {
     "name": "stdout",
     "output_type": "stream",
     "text": [
      "   age           job  marital  education default  balance housing loan  \\\n",
      "0   58    management  married   tertiary      no   2143.0     yes   no   \n",
      "1   44    technician   single  secondary      no     29.0     yes   no   \n",
      "2   33  entrepreneur  married  secondary      no      2.0     yes  yes   \n",
      "3   47   blue-collar  married    unknown      no   1506.0     yes   no   \n",
      "\n",
      "   contact  day month  duration  campaign  pdays  previous poutcome   y  \n",
      "0  unknown    5   may     261.0         1   -1.0         0  unknown  no  \n",
      "1  unknown    5   may     151.0         1   -1.0         0  unknown  no  \n",
      "2  unknown    5   may      76.0         1   -1.0         0  unknown  no  \n",
      "3  unknown    5   may      92.0         1   -1.0         0  unknown  no  \n",
      "\n",
      "\n",
      "        ⬇️\n",
      "\n",
      "\n",
      "       age           job   marital  education default  balance housing loan  \\\n",
      "45211   71       retired  divorced    primary      no   1729.0      no   no   \n",
      "45212   72       retired   married  secondary      no   5715.0      no   no   \n",
      "45213   57   blue-collar   married  secondary      no    668.0      no   no   \n",
      "45214   37  entrepreneur   married  secondary      no   2971.0      no   no   \n",
      "\n",
      "         contact  day month  duration  campaign  pdays  previous poutcome    y  \n",
      "45211   cellular   17   nov     456.0         2   -1.0         0  unknown  yes  \n",
      "45212   cellular   17   nov    1127.0         5  184.0         3  success  yes  \n",
      "45213  telephone   17   nov     508.0         4   -1.0         0  unknown   no  \n",
      "45214   cellular   17   nov     361.0         2  188.0        11    other   no  \n",
      "\n",
      "\n",
      "        ⬇️\n",
      "\n",
      "\n",
      "<class 'pandas.core.frame.DataFrame'>\n",
      "RangeIndex: 45215 entries, 0 to 45214\n",
      "Data columns (total 17 columns):\n",
      " #   Column     Non-Null Count  Dtype  \n",
      "---  ------     --------------  -----  \n",
      " 0   age        45215 non-null  int64  \n",
      " 1   job        45213 non-null  object \n",
      " 2   marital    45214 non-null  object \n",
      " 3   education  45214 non-null  object \n",
      " 4   default    45215 non-null  object \n",
      " 5   balance    45213 non-null  float64\n",
      " 6   housing    45215 non-null  object \n",
      " 7   loan       45215 non-null  object \n",
      " 8   contact    45215 non-null  object \n",
      " 9   day        45215 non-null  int64  \n",
      " 10  month      45215 non-null  object \n",
      " 11  duration   45214 non-null  float64\n",
      " 12  campaign   45215 non-null  int64  \n",
      " 13  pdays      45214 non-null  float64\n",
      " 14  previous   45215 non-null  int64  \n",
      " 15  poutcome   45215 non-null  object \n",
      " 16  y          45215 non-null  object \n",
      "dtypes: float64(3), int64(4), object(10)\n",
      "memory usage: 5.9+ MB\n",
      "None\n",
      "\n",
      "\n",
      "        ⬇️\n",
      "\n",
      "\n",
      "                age        balance           day      duration      campaign  \\\n",
      "count  45215.000000   45213.000000  45215.000000  45214.000000  45215.000000   \n",
      "mean      41.004711    1374.159866     15.805839    258.074357      2.763729   \n",
      "std       12.036647    3924.255525      8.322473    257.605175      3.097910   \n",
      "min       18.000000   -8019.000000      1.000000  -1389.000000      1.000000   \n",
      "25%       33.000000      72.000000      8.000000    103.000000      1.000000   \n",
      "50%       39.000000     448.000000     16.000000    180.000000      2.000000   \n",
      "75%       48.000000    1428.000000     21.000000    319.000000      3.000000   \n",
      "max      776.000000  527532.000000     31.000000   4918.000000     63.000000   \n",
      "\n",
      "              pdays      previous  \n",
      "count  45214.000000  45215.000000  \n",
      "mean      40.192485      0.580383  \n",
      "std      100.120622      2.303438  \n",
      "min       -1.000000      0.000000  \n",
      "25%       -1.000000      0.000000  \n",
      "50%       -1.000000      0.000000  \n",
      "75%       -1.000000      0.000000  \n",
      "max      871.000000    275.000000  \n",
      "\n",
      "\n",
      "        ⬇️\n",
      "\n",
      "\n",
      "(45215, 17)\n",
      "\n",
      "\n",
      "        ⬇️\n",
      "\n",
      "\n",
      "Index(['age', 'job', 'marital', 'education', 'default', 'balance', 'housing',\n",
      "       'loan', 'contact', 'day', 'month', 'duration', 'campaign', 'pdays',\n",
      "       'previous', 'poutcome', 'y'],\n",
      "      dtype='object')\n"
     ]
    }
   ],
   "source": [
    "print(banco.head(4))\n",
    "print(\"\\n\\n        ⬇️\\n\\n\")\n",
    "print(banco.tail(4))\n",
    "print(\"\\n\\n        ⬇️\\n\\n\")\n",
    "print(banco.info())\n",
    "print(\"\\n\\n        ⬇️\\n\\n\")\n",
    "print(banco.describe())\n",
    "print(\"\\n\\n        ⬇️\\n\\n\")\n",
    "print(banco.shape)\n",
    "print(\"\\n\\n        ⬇️\\n\\n\")\n",
    "print(banco.columns)"
   ]
  },
  {
   "cell_type": "code",
   "execution_count": 130,
   "metadata": {},
   "outputs": [
    {
     "name": "stdout",
     "output_type": "stream",
     "text": [
      "Index(['age', 'job', 'marital', 'education', 'default', 'balance', 'housing',\n",
      "       'loan', 'contact', 'day', 'month', 'duration', 'campaign', 'pdays',\n",
      "       'previous', 'poutcome', 'y'],\n",
      "      dtype='object')\n"
     ]
    }
   ],
   "source": [
    "#Muestra los atributos por defecto\n",
    "print(banco.columns)"
   ]
  },
  {
   "cell_type": "code",
   "execution_count": 131,
   "metadata": {},
   "outputs": [
    {
     "name": "stdout",
     "output_type": "stream",
     "text": [
      "Index(['edad', 'trabajo', 'estado_civil', 'educacion', 'morosidad', 'saldo',\n",
      "       'vivienda', 'prestamo', 'contacto', 'dia', 'mes', 'duracion', 'campana',\n",
      "       'dias_previos', 'anterior', 'resultado', 'respuesta'],\n",
      "      dtype='object')\n"
     ]
    }
   ],
   "source": [
    "# Sustituir nombres los nombres de los atributos\n",
    "\n",
    "# cnab : Cambiar nombres atributos banco\n",
    "cnab = banco.rename(columns={\n",
    "    \"age\":             'edad',\n",
    "    \"job\":             'trabajo',\n",
    "    'marital':        'estado_civil',\n",
    "    'education':   'educacion',\n",
    "    'default':        'morosidad',\n",
    "    'balance':       'saldo',\n",
    "    'housing':       'vivienda',\n",
    "    'loan':             'prestamo',\n",
    "    'contact':       'contacto',\n",
    "    'day':              'dia',\n",
    "    'month':        'mes',\n",
    "    'duration':    'duracion',\n",
    "    'campaign':  'campana',\n",
    "    'pdays':         'dias_previos',\n",
    "    'previous':    'anterior',\n",
    "    'poutcome': 'resultado',\n",
    "    'y':                 'respuesta'\n",
    "})\n",
    "\n",
    "print(cnab.columns)"
   ]
  },
  {
   "cell_type": "code",
   "execution_count": 132,
   "metadata": {},
   "outputs": [
    {
     "name": "stdout",
     "output_type": "stream",
     "text": [
      "   edad       trabajo estado_civil  educacion morosidad   saldo vivienda  \\\n",
      "0    58    management      married   tertiary        no  2143.0      yes   \n",
      "1    44    technician       single  secondary        no    29.0      yes   \n",
      "2    33  entrepreneur      married  secondary        no     2.0      yes   \n",
      "3    47   blue-collar      married    unknown        no  1506.0      yes   \n",
      "\n",
      "  prestamo contacto  dia  mes  duracion  campana  dias_previos  anterior  \\\n",
      "0       no  unknown    5  may     261.0        1          -1.0         0   \n",
      "1       no  unknown    5  may     151.0        1          -1.0         0   \n",
      "2      yes  unknown    5  may      76.0        1          -1.0         0   \n",
      "3       no  unknown    5  may      92.0        1          -1.0         0   \n",
      "\n",
      "  resultado respuesta  \n",
      "0   unknown        no  \n",
      "1   unknown        no  \n",
      "2   unknown        no  \n",
      "3   unknown        no  \n"
     ]
    }
   ],
   "source": [
    "# Visualizar primeras filas\n",
    "\n",
    "print(cnab.head(4))"
   ]
  },
  {
   "cell_type": "code",
   "execution_count": 133,
   "metadata": {},
   "outputs": [
    {
     "name": "stdout",
     "output_type": "stream",
     "text": [
      "<class 'pandas.core.frame.DataFrame'>\n",
      "RangeIndex: 45215 entries, 0 to 45214\n",
      "Data columns (total 17 columns):\n",
      " #   Column        Non-Null Count  Dtype  \n",
      "---  ------        --------------  -----  \n",
      " 0   edad          45215 non-null  int64  \n",
      " 1   trabajo       45213 non-null  object \n",
      " 2   estado_civil  45214 non-null  object \n",
      " 3   educacion     45214 non-null  object \n",
      " 4   morosidad     45215 non-null  object \n",
      " 5   saldo         45213 non-null  float64\n",
      " 6   vivienda      45215 non-null  object \n",
      " 7   prestamo      45215 non-null  object \n",
      " 8   contacto      45215 non-null  object \n",
      " 9   dia           45215 non-null  int64  \n",
      " 10  mes           45215 non-null  object \n",
      " 11  duracion      45214 non-null  float64\n",
      " 12  campana       45215 non-null  int64  \n",
      " 13  dias_previos  45214 non-null  float64\n",
      " 14  anterior      45215 non-null  int64  \n",
      " 15  resultado     45215 non-null  object \n",
      " 16  respuesta     45215 non-null  object \n",
      "dtypes: float64(3), int64(4), object(10)\n",
      "memory usage: 5.9+ MB\n",
      "None\n"
     ]
    }
   ],
   "source": [
    "print(cnab.info())"
   ]
  },
  {
   "cell_type": "code",
   "execution_count": 134,
   "metadata": {},
   "outputs": [
    {
     "name": "stdout",
     "output_type": "stream",
     "text": [
      "Index(['trabajo', 'estado_civil', 'educacion', 'morosidad', 'vivienda',\n",
      "       'prestamo', 'contacto', 'mes', 'resultado', 'respuesta'],\n",
      "      dtype='object')\n",
      "<class 'pandas.core.frame.DataFrame'>\n",
      "RangeIndex: 45215 entries, 0 to 45214\n",
      "Data columns (total 10 columns):\n",
      " #   Column        Non-Null Count  Dtype \n",
      "---  ------        --------------  ----- \n",
      " 0   trabajo       45213 non-null  object\n",
      " 1   estado_civil  45214 non-null  object\n",
      " 2   educacion     45214 non-null  object\n",
      " 3   morosidad     45215 non-null  object\n",
      " 4   vivienda      45215 non-null  object\n",
      " 5   prestamo      45215 non-null  object\n",
      " 6   contacto      45215 non-null  object\n",
      " 7   mes           45215 non-null  object\n",
      " 8   resultado     45215 non-null  object\n",
      " 9   respuesta     45215 non-null  object\n",
      "dtypes: object(10)\n",
      "memory usage: 3.4+ MB\n",
      "None\n"
     ]
    }
   ],
   "source": [
    "# cnab_categoricas: son las variables con texto (object).\n",
    "# .select_dtypes(include=[\"object\"]) : Selecciona todas las columnas del dataFrame 'cnab' que son de tipo 'object y almacena el resultado en 'cnab_categoricas.\n",
    "# cnab_categoricas = será un nuevo dataframe que contiene solo los atributos categóricos.\n",
    "cnab_categoricas = cnab.select_dtypes(include=[\"object\"])\n",
    "\n",
    "\n",
    "\n",
    "print(cnab_categoricas.columns)\n",
    "print(cnab_categoricas.info())"
   ]
  },
  {
   "cell_type": "code",
   "execution_count": 135,
   "metadata": {},
   "outputs": [
    {
     "name": "stdout",
     "output_type": "stream",
     "text": [
      "Index(['edad', 'saldo', 'dia', 'duracion', 'campana', 'dias_previos',\n",
      "       'anterior'],\n",
      "      dtype='object')\n",
      "<class 'pandas.core.frame.DataFrame'>\n",
      "RangeIndex: 45215 entries, 0 to 45214\n",
      "Data columns (total 7 columns):\n",
      " #   Column        Non-Null Count  Dtype  \n",
      "---  ------        --------------  -----  \n",
      " 0   edad          45215 non-null  int64  \n",
      " 1   saldo         45213 non-null  float64\n",
      " 2   dia           45215 non-null  int64  \n",
      " 3   duracion      45214 non-null  float64\n",
      " 4   campana       45215 non-null  int64  \n",
      " 5   dias_previos  45214 non-null  float64\n",
      " 6   anterior      45215 non-null  int64  \n",
      "dtypes: float64(3), int64(4)\n",
      "memory usage: 2.4 MB\n",
      "None\n"
     ]
    }
   ],
   "source": [
    " # cnab_numericas : Representaran a los atributos numericos, tanto int, como float\n",
    " # la explicación es similar, solo que en el caso de numericas\n",
    "cnab_numericas = cnab.select_dtypes(include=[\"int64\",'float64' ])\n",
    "print(cnab_numericas.columns)\n",
    "print(cnab_numericas.info())"
   ]
  },
  {
   "cell_type": "code",
   "execution_count": 136,
   "metadata": {},
   "outputs": [
    {
     "name": "stdout",
     "output_type": "stream",
     "text": [
      "trabajo\n",
      "blue-collar       9731\n",
      "management        9455\n",
      "technician        7599\n",
      "admin.            5168\n",
      "services          4153\n",
      "retired           2263\n",
      "self-employed     1578\n",
      "entrepreneur      1487\n",
      "unemployed        1303\n",
      "housemaid         1240\n",
      "student            938\n",
      "unknown            288\n",
      "administrative       3\n",
      "Management           2\n",
      "MANAGEMENT           2\n",
      "Self-employed        1\n",
      "Services             1\n",
      "Retired              1\n",
      "Name: count, dtype: int64\n"
     ]
    },
    {
     "name": "stderr",
     "output_type": "stream",
     "text": [
      "C:\\Users\\Usuario\\AppData\\Local\\Temp\\ipykernel_11892\\749200375.py:2: FutureWarning: pandas.value_counts is deprecated and will be removed in a future version. Use pd.Series(obj).value_counts() instead.\n",
      "  subniveles_trabajo = pd.value_counts(cnab[\"trabajo\"])\n"
     ]
    }
   ],
   "source": [
    "# Identificar los nombres de cada registro del atributo 'trabajo' y los enumera según su numero de ocurrencia\n",
    "subniveles_trabajo = pd.value_counts(cnab[\"trabajo\"])\n",
    "\n",
    "print(subniveles_trabajo)"
   ]
  },
  {
   "cell_type": "code",
   "execution_count": 137,
   "metadata": {},
   "outputs": [
    {
     "name": "stdout",
     "output_type": "stream",
     "text": [
      "MEDIA de lor atributos numericos ⬇️\n",
      "\n",
      "edad              41.004711\n",
      "saldo           1374.159866\n",
      "dia               15.805839\n",
      "duracion         258.074357\n",
      "campana            2.763729\n",
      "dias_previos      40.192485\n",
      "anterior           0.580383\n",
      "dtype: float64\n",
      "\n",
      "\n",
      "DESVIACION ESTANDAR de lor atributos numericos ⬇️\n",
      "\n",
      "edad              12.036647\n",
      "saldo           3924.255525\n",
      "dia                8.322473\n",
      "duracion         257.605175\n",
      "campana            3.097910\n",
      "dias_previos     100.120622\n",
      "anterior           2.303438\n",
      "dtype: float64\n",
      "\n",
      "\n"
     ]
    }
   ],
   "source": [
    "# estadisticas descriptivas para columnas numericas\n",
    "# media\n",
    "cnab_media = (cnab_numericas).mean()\n",
    "\n",
    "# Desviación estándar\n",
    "cnab_s = (cnab_numericas).std()\n",
    "\n",
    "print(f'MEDIA de lor atributos numericos ⬇️\\n\\n{cnab_media}\\n\\n')\n",
    "print(f'DESVIACION ESTANDAR de lor atributos numericos ⬇️\\n\\n{cnab_s}\\n\\n')\n"
   ]
  },
  {
   "cell_type": "code",
   "execution_count": 138,
   "metadata": {},
   "outputs": [
    {
     "name": "stdout",
     "output_type": "stream",
     "text": [
      "MEDIANA de lor atributos numericos ⬇️\n",
      "\n",
      "edad             39.0\n",
      "saldo           448.0\n",
      "dia              16.0\n",
      "duracion        180.0\n",
      "campana           2.0\n",
      "dias_previos     -1.0\n",
      "anterior          0.0\n",
      "dtype: float64\n",
      "\n",
      "\n"
     ]
    }
   ],
   "source": [
    "# Mediana\n",
    "cnab_mediana = (cnab_numericas).median()\n",
    "\n",
    "print(f'MEDIANA de lor atributos numericos ⬇️\\n\\n{cnab_mediana}\\n\\n')\n"
   ]
  },
  {
   "cell_type": "code",
   "execution_count": 139,
   "metadata": {},
   "outputs": [
    {
     "name": "stdout",
     "output_type": "stream",
     "text": [
      "MODA de lor atributos numericos ⬇️\n",
      "\n",
      "   edad  saldo  dia  duracion  campana  dias_previos  anterior\n",
      "0    32    0.0   20     124.0        1          -1.0         0\n",
      "\n",
      "\n"
     ]
    }
   ],
   "source": [
    "# moda\n",
    "cnab_moda = (cnab_numericas).mode()\n",
    "\n",
    "print(f'MODA de lor atributos numericos ⬇️\\n\\n{cnab_moda}\\n\\n')"
   ]
  },
  {
   "cell_type": "code",
   "execution_count": 140,
   "metadata": {},
   "outputs": [
    {
     "name": "stdout",
     "output_type": "stream",
     "text": [
      "MAXIMO  de lor atributos numericos ⬇️\n",
      "\n",
      "edad               776.0\n",
      "saldo           527532.0\n",
      "dia                 31.0\n",
      "duracion          4918.0\n",
      "campana             63.0\n",
      "dias_previos       871.0\n",
      "anterior           275.0\n",
      "dtype: float64\n",
      "\n",
      "\n",
      "MINIMO  de lor atributos numericos ⬇️\n",
      "\n",
      "edad              18.0\n",
      "saldo          -8019.0\n",
      "dia                1.0\n",
      "duracion       -1389.0\n",
      "campana            1.0\n",
      "dias_previos      -1.0\n",
      "anterior           0.0\n",
      "dtype: float64\n",
      "\n",
      "\n"
     ]
    }
   ],
   "source": [
    "# valor máximo\n",
    "cnab_maximo = (cnab_numericas).max()\n",
    "\n",
    "# Valor minimo\n",
    "cnab_minimo = (cnab_numericas).min()\n",
    "\n",
    "print(f'MAXIMO  de lor atributos numericos ⬇️\\n\\n{cnab_maximo}\\n\\n')\n",
    "print(f'MINIMO  de lor atributos numericos ⬇️\\n\\n{cnab_minimo}\\n\\n')"
   ]
  },
  {
   "cell_type": "code",
   "execution_count": 141,
   "metadata": {},
   "outputs": [
    {
     "data": {
      "text/plain": [
       "edad            0\n",
       "trabajo         2\n",
       "estado_civil    1\n",
       "educacion       1\n",
       "morosidad       0\n",
       "saldo           2\n",
       "vivienda        0\n",
       "prestamo        0\n",
       "contacto        0\n",
       "dia             0\n",
       "mes             0\n",
       "duracion        1\n",
       "campana         0\n",
       "dias_previos    1\n",
       "anterior        0\n",
       "resultado       0\n",
       "respuesta       0\n",
       "dtype: int64"
      ]
     },
     "execution_count": 141,
     "metadata": {},
     "output_type": "execute_result"
    }
   ],
   "source": [
    "# muestra los datos faltantes de cada atributo de la entidad\n",
    "cnab.isna().sum()"
   ]
  },
  {
   "cell_type": "code",
   "execution_count": 142,
   "metadata": {},
   "outputs": [
    {
     "name": "stdout",
     "output_type": "stream",
     "text": [
      "edad            45207\n",
      "trabajo         45207\n",
      "estado_civil    45207\n",
      "educacion       45207\n",
      "morosidad       45207\n",
      "saldo           45207\n",
      "vivienda        45207\n",
      "prestamo        45207\n",
      "contacto        45207\n",
      "dia             45207\n",
      "mes             45207\n",
      "duracion        45207\n",
      "campana         45207\n",
      "dias_previos    45207\n",
      "anterior        45207\n",
      "resultado       45207\n",
      "respuesta       45207\n",
      "dtype: int64\n"
     ]
    }
   ],
   "source": [
    "# Eliminación de los valores faltantes de la entidad\n",
    "# .dropna(inplace=True) : Elimina filas o columnas que contengan valores NaN (nulos)\n",
    "    # inplace=False : Se dejará en False para que la variable se convierta en el nuevo DataFrame y no se modifique el original\n",
    "    # inplace=True : Si se establece True, se realiza la operación en el DataFrame original\n",
    "# .drop(Elimina filas o columnas especificas de DataFrame)\n",
    "# .drop_duplicate() : Elimina filas duplicadas en el DataFrame\n",
    "\n",
    "# Se eliminan filas y columnas con valores faltantes\n",
    "d_cnab = cnab.dropna(inplace=False)\n",
    "\n",
    "# Cuenta el numero de valores no nulos en cada columna o fila si se (especifica)\n",
    "d_cnab_count =  d_cnab.count()\n",
    "\n",
    "print(d_cnab_count)\n"
   ]
  },
  {
   "cell_type": "code",
   "execution_count": 143,
   "metadata": {},
   "outputs": [
    {
     "data": {
      "text/plain": [
       "edad            0\n",
       "trabajo         0\n",
       "estado_civil    0\n",
       "educacion       0\n",
       "morosidad       0\n",
       "saldo           0\n",
       "vivienda        0\n",
       "prestamo        0\n",
       "contacto        0\n",
       "dia             0\n",
       "mes             0\n",
       "duracion        0\n",
       "campana         0\n",
       "dias_previos    0\n",
       "anterior        0\n",
       "resultado       0\n",
       "respuesta       0\n",
       "dtype: int64"
      ]
     },
     "execution_count": 143,
     "metadata": {},
     "output_type": "execute_result"
    }
   ],
   "source": [
    "# Se comprueba que no existan valores nulos\n",
    "d_cnab.isna().sum()\n",
    "\n"
   ]
  },
  {
   "cell_type": "code",
   "execution_count": 144,
   "metadata": {},
   "outputs": [
    {
     "name": "stdout",
     "output_type": "stream",
     "text": [
      "Index(['trabajo', 'estado_civil', 'educacion', 'morosidad', 'vivienda',\n",
      "       'prestamo', 'contacto', 'mes', 'resultado', 'respuesta'],\n",
      "      dtype='object')\n"
     ]
    }
   ],
   "source": [
    "#Se muestran las columnas categoricas como apoyo al siguiente código\n",
    "print(cnab_categoricas.columns)"
   ]
  },
  {
   "cell_type": "code",
   "execution_count": 145,
   "metadata": {},
   "outputs": [
    {
     "name": "stdout",
     "output_type": "stream",
     "text": [
      "El atributo o columna trabajo, tiene 18 subniveles en sus registros\n",
      "El atributo o columna estado_civil, tiene 6 subniveles en sus registros\n",
      "El atributo o columna educacion, tiene 10 subniveles en sus registros\n",
      "El atributo o columna morosidad, tiene 2 subniveles en sus registros\n",
      "El atributo o columna vivienda, tiene 2 subniveles en sus registros\n",
      "El atributo o columna prestamo, tiene 6 subniveles en sus registros\n",
      "El atributo o columna contacto, tiene 5 subniveles en sus registros\n",
      "El atributo o columna mes, tiene 12 subniveles en sus registros\n",
      "El atributo o columna resultado, tiene 6 subniveles en sus registros\n",
      "El atributo o columna respuesta, tiene 2 subniveles en sus registros\n"
     ]
    }
   ],
   "source": [
    "# Conteo de los atributos en las diferentes columnas categóricas\n",
    "atributosCategoricos = ['trabajo', 'estado_civil', 'educacion', 'morosidad', 'vivienda',\n",
    "       'prestamo', 'contacto', 'mes', 'resultado', 'respuesta' ]\n",
    "\n",
    "for atributo in atributosCategoricos:\n",
    "    print(f\"El atributo o columna {atributo}, tiene {d_cnab[atributo].nunique()} subniveles en sus registros\")"
   ]
  },
  {
   "cell_type": "code",
   "execution_count": 146,
   "metadata": {},
   "outputs": [
    {
     "name": "stderr",
     "output_type": "stream",
     "text": [
      "C:\\Users\\Usuario\\AppData\\Local\\Temp\\ipykernel_11892\\7299370.py:2: FutureWarning: pandas.value_counts is deprecated and will be removed in a future version. Use pd.Series(obj).value_counts() instead.\n",
      "  pd.value_counts(d_cnab['trabajo'])\n"
     ]
    },
    {
     "data": {
      "text/plain": [
       "trabajo\n",
       "blue-collar       9730\n",
       "management        9454\n",
       "technician        7597\n",
       "admin.            5166\n",
       "services          4153\n",
       "retired           2263\n",
       "self-employed     1578\n",
       "entrepreneur      1487\n",
       "unemployed        1303\n",
       "housemaid         1240\n",
       "student            938\n",
       "unknown            288\n",
       "administrative       3\n",
       "Management           2\n",
       "MANAGEMENT           2\n",
       "Self-employed        1\n",
       "Services             1\n",
       "Retired              1\n",
       "Name: count, dtype: int64"
      ]
     },
     "execution_count": 146,
     "metadata": {},
     "output_type": "execute_result"
    }
   ],
   "source": [
    "# Contar los valores para el atributo 'trabajo' : tiene que salir 18, ya que ese es el níumero que nos dio en el ciclo for\n",
    "pd.value_counts(d_cnab['trabajo'])\n",
    "\n"
   ]
  },
  {
   "cell_type": "code",
   "execution_count": 147,
   "metadata": {},
   "outputs": [
    {
     "name": "stderr",
     "output_type": "stream",
     "text": [
      "C:\\Users\\Usuario\\AppData\\Local\\Temp\\ipykernel_11892\\3408448425.py:2: FutureWarning: pandas.value_counts is deprecated and will be removed in a future version. Use pd.Series(obj).value_counts() instead.\n",
      "  pd.value_counts(d_cnab['estado_civil'])\n"
     ]
    },
    {
     "data": {
      "text/plain": [
       "estado_civil\n",
       "married     27211\n",
       "single      12786\n",
       "divorced     5196\n",
       "div.            7\n",
       "Single          4\n",
       "DIVORCED        3\n",
       "Name: count, dtype: int64"
      ]
     },
     "execution_count": 147,
     "metadata": {},
     "output_type": "execute_result"
    }
   ],
   "source": [
    "# Contar los valores para el atributo 'estado_civil' : tiene que salir 6, ya que ese es el níumero que nos dio en el ciclo for\n",
    "pd.value_counts(d_cnab['estado_civil'])"
   ]
  },
  {
   "cell_type": "markdown",
   "metadata": {},
   "source": [
    "# **Ciclo for**\n",
    "Con lo anterior, nos damos cuentas de los subniveles con inconsistencias y que se puede modificar para limpiar mejor la data.\n",
    "\n",
    "Ejemplo:\n",
    "\n",
    "* En la columna 'trabajo':\n",
    "    * Normalizar:\n",
    "        * admin.\n",
    "        * administrative\n",
    "        * Ya que ambos tienen la misma finalidad, pero toca unirlo en un colo concepto.\n",
    "\n",
    "* En la columna 'estado_civil':\n",
    "    * Normalizar:\n",
    "        * div.\n",
    "        * divorced\n",
    "        * Lo mismo que el anterior ejemplo, tiene la misma finalidad pero se escribieron de manera diferente.\n",
    "\n",
    "El ejercicio no permite eliminar las columnas o modificarlas en este aspecto, solo es para verificar lo que se puede realizar.\n"
   ]
  },
  {
   "cell_type": "code",
   "execution_count": 148,
   "metadata": {},
   "outputs": [
    {
     "name": "stdout",
     "output_type": "stream",
     "text": [
      "Index(['edad', 'saldo', 'dia', 'duracion', 'campana', 'dias_previos',\n",
      "       'anterior'],\n",
      "      dtype='object')\n"
     ]
    }
   ],
   "source": [
    "#Se muestran las columnas categoricas como apoyo al siguiente código\n",
    "print(cnab_numericas.columns)"
   ]
  },
  {
   "cell_type": "code",
   "execution_count": 149,
   "metadata": {},
   "outputs": [
    {
     "name": "stdout",
     "output_type": "stream",
     "text": [
      "El atributo o columna edad, tiene 85 subniveles en sus registros\n",
      "El atributo o columna saldo, tiene 7168 subniveles en sus registros\n",
      "El atributo o columna dia, tiene 31 subniveles en sus registros\n",
      "El atributo o columna duracion, tiene 1573 subniveles en sus registros\n",
      "El atributo o columna campana, tiene 48 subniveles en sus registros\n",
      "El atributo o columna dias_previos, tiene 559 subniveles en sus registros\n",
      "El atributo o columna anterior, tiene 41 subniveles en sus registros\n"
     ]
    }
   ],
   "source": [
    "# Lo mismo pero con las columnas numericas\n",
    "atributosNumericos = ['edad', 'saldo', 'dia', 'duracion', 'campana', 'dias_previos',\n",
    "       'anterior' ]\n",
    "\n",
    "for atributo in atributosNumericos:\n",
    "    print(f\"El atributo o columna {atributo}, tiene {d_cnab[atributo].nunique()} subniveles en sus registros\")"
   ]
  },
  {
   "cell_type": "code",
   "execution_count": 150,
   "metadata": {},
   "outputs": [
    {
     "name": "stderr",
     "output_type": "stream",
     "text": [
      "C:\\Users\\Usuario\\AppData\\Local\\Temp\\ipykernel_11892\\4152016480.py:2: FutureWarning: pandas.value_counts is deprecated and will be removed in a future version. Use pd.Series(obj).value_counts() instead.\n",
      "  pd.value_counts(d_cnab['campana'], ascending=True)\n"
     ]
    },
    {
     "data": {
      "text/plain": [
       "campana\n",
       "44        1\n",
       "39        1\n",
       "55        1\n",
       "51        1\n",
       "46        1\n",
       "63        1\n",
       "58        1\n",
       "37        2\n",
       "41        2\n",
       "50        2\n",
       "38        3\n",
       "43        3\n",
       "36        4\n",
       "35        4\n",
       "34        5\n",
       "33        6\n",
       "30        8\n",
       "32        9\n",
       "27       10\n",
       "31       12\n",
       "26       13\n",
       "29       16\n",
       "28       16\n",
       "24       20\n",
       "25       22\n",
       "23       22\n",
       "22       23\n",
       "21       35\n",
       "20       43\n",
       "19       44\n",
       "18       51\n",
       "17       69\n",
       "16       79\n",
       "15       84\n",
       "14       93\n",
       "13      133\n",
       "12      155\n",
       "11      201\n",
       "10      266\n",
       "9       327\n",
       "8       539\n",
       "7       735\n",
       "6      1291\n",
       "5      1764\n",
       "4      3522\n",
       "3      5519\n",
       "2     12504\n",
       "1     17544\n",
       "Name: count, dtype: int64"
      ]
     },
     "execution_count": 150,
     "metadata": {},
     "output_type": "execute_result"
    }
   ],
   "source": [
    "# Contar los valores para el atributo 'campana' : tiene que salir 48(Un valor super alto al ser números), ya que ese es el níumero que nos dio en el ciclo for\n",
    "pd.value_counts(d_cnab['campana'], ascending=True)"
   ]
  },
  {
   "cell_type": "markdown",
   "metadata": {},
   "source": [
    "# **Graficos con Matplotlib** "
   ]
  },
  {
   "cell_type": "code",
   "execution_count": 151,
   "metadata": {},
   "outputs": [
    {
     "name": "stdout",
     "output_type": "stream",
     "text": [
      "edad              12.036647\n",
      "saldo           3924.255525\n",
      "dia                8.322473\n",
      "duracion         257.605175\n",
      "campana            3.097910\n",
      "dias_previos     100.120622\n",
      "anterior           2.303438\n",
      "dtype: float64\n"
     ]
    }
   ],
   "source": [
    "# Crear una gráfica de barras para representar las desviaciones estándar de las columnas numericas\n",
    "# Variable de categoria numerica creada con anterioridad : cnab_numericas\n",
    "\n",
    "# Desviación estándar\n",
    "cnab_s = (cnab_numericas).std()\n",
    "\n",
    "print(cnab_s)"
   ]
  },
  {
   "cell_type": "code",
   "execution_count": 152,
   "metadata": {},
   "outputs": [
    {
     "data": {
      "text/plain": [
       "<function matplotlib.pyplot.show(close=None, block=None)>"
      ]
     },
     "execution_count": 152,
     "metadata": {},
     "output_type": "execute_result"
    },
    {
     "data": {
      "image/png": "[encoded data removed]",
      "text/plain": [
       "<Figure size 640x480 with 1 Axes>"
      ]
     },
     "metadata": {},
     "output_type": "display_data"
    }
   ],
   "source": [
    "#Gráfico\n",
    "\n",
    "cnab_s.plot(kind='bar')\n",
    "plt.title('Desviacion estandar de los atributos numericos')\n",
    "plt.xlabel('Atributos')\n",
    "plt.ylabel('Desviacion Estándar')\n",
    "plt.xticks(rotation= -45 )\n",
    "plt.show"
   ]
  },
  {
   "cell_type": "code",
   "execution_count": 153,
   "metadata": {},
   "outputs": [
    {
     "data": {
      "text/plain": [
       "<function matplotlib.pyplot.show(close=None, block=None)>"
      ]
     },
     "execution_count": 153,
     "metadata": {},
     "output_type": "execute_result"
    },
    {
     "data": {
      "image/png": "[encoded data removed]",
      "text/plain": [
       "<Figure size 400x200 with 1 Axes>"
      ]
     },
     "metadata": {},
     "output_type": "display_data"
    }
   ],
   "source": [
    "# Gráficar la desviacion estandar de 'dias_previos'\n",
    "\n",
    "desv_diasPrevios = cnab_numericas['dias_previos'].std()\n",
    "\n",
    "plt.figure(figsize=(4,2)) # Tamaño de la figura\n",
    "plt.bar('dias_previos', desv_diasPrevios ) # Se crea una barra para la desviacion estandar\n",
    "plt.title('Desviacion estandar de dias_previos')\n",
    "plt.ylabel('Desviacion estandar')\n",
    "plt.show"
   ]
  },
  {
   "cell_type": "code",
   "execution_count": null,
   "metadata": {},
   "outputs": [],
   "source": []
  }
 ],
 "metadata": {
  "kernelspec": {
   "display_name": "Python 3",
   "language": "python",
   "name": "python3"
  },
  "language_info": {
   "codemirror_mode": {
    "name": "ipython",
    "version": 3
   },
   "file_extension": ".py",
   "mimetype": "text/x-python",
   "name": "python",
   "nbconvert_exporter": "python",
   "pygments_lexer": "ipython3",
   "version": "3.12.0"
  }
 },
 "nbformat": 4,
 "nbformat_minor": 2
}
